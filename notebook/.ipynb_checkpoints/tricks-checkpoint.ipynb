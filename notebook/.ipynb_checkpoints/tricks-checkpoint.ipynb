{
 "cells": [
  {
   "cell_type": "markdown",
   "metadata": {},
   "source": [
    "![try](laopo.png)\n",
    "\n",
    "这张图是用来测试能否插入图片的，不用在意\n",
    "\n",
    "\n",
    "## 关于写这个的目的\n",
    "\n",
    "首先我们一直强调的是，我们做的是交流而不是报告，我们想在这个过程中告诉大家我们自己做了哪些东西，遇到了哪些坑，并告诉大家如何避免这些坑，当然，也是为了展示这个内容的工作量有多大\n",
    "\n",
    "### 本文分成以下基本部分\n",
    "\n",
    "- 数据清洗过程中的坑\n",
    "- 用户/商品相似度 计算过程中的坑\n",
    "- 用户/商品距离 计算中遇到的坑\n",
    "- 权重计算中遇到的坑\n",
    "- 交叉验证中遇到的坑"
   ]
  },
  {
   "cell_type": "markdown",
   "metadata": {},
   "source": [
    "### part 1 数据清洗过程中遇到的坑\n"
   ]
  },
  {
   "cell_type": "markdown",
   "metadata": {},
   "source": [
    "一切的开始首先要做的事情肯定是进行数据清洗\n"
   ]
  },
  {
   "cell_type": "markdown",
   "metadata": {},
   "source": [
    "首先把数据读进来\n",
    "\n",
    "\n",
    "#### 注意：这里读入数据有几个技巧\n",
    "\n",
    "- 使用dtype 在读取数据时可以声明类型\n",
    "- iterator 可以逐步的读入数据，在测试时可以加速运行\n",
    "- 关于时间的处理技巧：\n",
    "    - 虽然这里没有涉及时间的变量，但是简单的提一下，pandas 支持在输入时处理时间\n",
    "    - 方法如下\n",
    "    \n",
    "```python\n",
    "    # dataparse 声明时间类型的格式，parse_dates指明哪些数据会处理为时间类型\n",
    "    dateparse = lambda x: pd.datetime.strptime(x, '%Y%m%d')\n",
    "    user = pd.read_csv(usertable,encoding = \"UTF-8\",\n",
    "                parse_dates= ['registration_init_time','expiration_date']\n",
    "                ,date_parser=dateparse\n",
    "                ,iterator= True\n",
    "                       )\n",
    "    # 顺便，获取时间差的方法为：\n",
    "    user['cntinue'] =user.expiration_date\\\n",
    "                        -user.registration_init_time\n",
    "\n",
    "    user.cntinue = user.cntinue.dt.days\n",
    "\n",
    "```"
   ]
  },
  {
   "cell_type": "code",
   "execution_count": 5,
   "metadata": {
    "collapsed": false
   },
   "outputs": [
    {
     "data": {
      "text/html": [
       "<div>\n",
       "<style scoped>\n",
       "    .dataframe tbody tr th:only-of-type {\n",
       "        vertical-align: middle;\n",
       "    }\n",
       "\n",
       "    .dataframe tbody tr th {\n",
       "        vertical-align: top;\n",
       "    }\n",
       "\n",
       "    .dataframe thead th {\n",
       "        text-align: right;\n",
       "    }\n",
       "</style>\n",
       "<table border=\"1\" class=\"dataframe\">\n",
       "  <thead>\n",
       "    <tr style=\"text-align: right;\">\n",
       "      <th></th>\n",
       "      <th>song_id</th>\n",
       "      <th>genre_ids</th>\n",
       "    </tr>\n",
       "  </thead>\n",
       "  <tbody>\n",
       "    <tr>\n",
       "      <th>0</th>\n",
       "      <td>oTi7o</td>\n",
       "      <td>352</td>\n",
       "    </tr>\n",
       "    <tr>\n",
       "      <th>1</th>\n",
       "      <td>btcG0</td>\n",
       "      <td>352|1995</td>\n",
       "    </tr>\n",
       "  </tbody>\n",
       "</table>\n",
       "</div>"
      ],
      "text/plain": [
       "  song_id genre_ids\n",
       "0   oTi7o       352\n",
       "1   btcG0  352|1995"
      ]
     },
     "execution_count": 5,
     "metadata": {},
     "output_type": "execute_result"
    }
   ],
   "source": [
    "import pandas as pd\n",
    "\n",
    "fileplace = \"C:\\\\Users\\\\22560\\\\Desktop\\\\recommand Sys\\\\recommand Sys\\\\songsCSV.csv\"\n",
    "song = pd.read_csv(fileplace,dtype ={\n",
    "        \"song_id\" : str,\n",
    "        \"genre_ids\" : str   \n",
    "    },iterator = True\n",
    ")\n",
    "chunksize =100 #30000\n",
    "song  = song.get_chunk(chunksize)\n",
    "song = song.loc[8:9,['song_id','genre_ids']]\n",
    "song.reset_index(inplace =True)\n",
    "song.song_id = song.song_id.str.slice(0,5)\n",
    "song.drop(columns='index',inplace  = True)\n",
    "song.loc[0,'genre_ids'] = '352'\n",
    "song.head()"
   ]
  },
  {
   "cell_type": "markdown",
   "metadata": {},
   "source": [
    "注意到这里有两个问题需要处理：\n",
    "\n",
    "\n",
    "- 需要对于song_id 编码\n",
    "- 一首歌有可能对应多个genre_ids,对此我们需要进行处理\n",
    "\n",
    "接下来我们一步一步解决\n"
   ]
  },
  {
   "cell_type": "markdown",
   "metadata": {},
   "source": [
    "#### 关于编码\n",
    "\n",
    "推荐的方式为使用sklearn 的encoder 方法"
   ]
  },
  {
   "cell_type": "code",
   "execution_count": 6,
   "metadata": {
    "collapsed": false
   },
   "outputs": [],
   "source": [
    "from sklearn.preprocessing import LabelEncoder\n",
    "le = LabelEncoder()\n",
    "le.fit(song['song_id'])\n",
    "originalName = song['song_id']\n",
    "song['song_id'] = le.transform(song['song_id'])"
   ]
  },
  {
   "cell_type": "code",
   "execution_count": 7,
   "metadata": {
    "collapsed": false
   },
   "outputs": [
    {
     "data": {
      "text/html": [
       "<div>\n",
       "<style scoped>\n",
       "    .dataframe tbody tr th:only-of-type {\n",
       "        vertical-align: middle;\n",
       "    }\n",
       "\n",
       "    .dataframe tbody tr th {\n",
       "        vertical-align: top;\n",
       "    }\n",
       "\n",
       "    .dataframe thead th {\n",
       "        text-align: right;\n",
       "    }\n",
       "</style>\n",
       "<table border=\"1\" class=\"dataframe\">\n",
       "  <thead>\n",
       "    <tr style=\"text-align: right;\">\n",
       "      <th></th>\n",
       "      <th>song_id</th>\n",
       "      <th>genre_ids</th>\n",
       "    </tr>\n",
       "  </thead>\n",
       "  <tbody>\n",
       "    <tr>\n",
       "      <th>0</th>\n",
       "      <td>1</td>\n",
       "      <td>352</td>\n",
       "    </tr>\n",
       "    <tr>\n",
       "      <th>1</th>\n",
       "      <td>0</td>\n",
       "      <td>352|1995</td>\n",
       "    </tr>\n",
       "  </tbody>\n",
       "</table>\n",
       "</div>"
      ],
      "text/plain": [
       "   song_id genre_ids\n",
       "0        1       352\n",
       "1        0  352|1995"
      ]
     },
     "execution_count": 7,
     "metadata": {},
     "output_type": "execute_result"
    }
   ],
   "source": [
    "# 可以看到 song_id 被编码了\n",
    "song.head()"
   ]
  },
  {
   "cell_type": "markdown",
   "metadata": {},
   "source": [
    "#### 关于处理genre_id"
   ]
  },
  {
   "cell_type": "markdown",
   "metadata": {},
   "source": [
    "我们希望把数据处理成这个样子,即每一行都只有一首歌对应一个体裁"
   ]
  },
  {
   "cell_type": "code",
   "execution_count": 8,
   "metadata": {
    "collapsed": false
   },
   "outputs": [
    {
     "data": {
      "text/html": [
       "<div>\n",
       "<style scoped>\n",
       "    .dataframe tbody tr th:only-of-type {\n",
       "        vertical-align: middle;\n",
       "    }\n",
       "\n",
       "    .dataframe tbody tr th {\n",
       "        vertical-align: top;\n",
       "    }\n",
       "\n",
       "    .dataframe thead th {\n",
       "        text-align: right;\n",
       "    }\n",
       "</style>\n",
       "<table border=\"1\" class=\"dataframe\">\n",
       "  <thead>\n",
       "    <tr style=\"text-align: right;\">\n",
       "      <th></th>\n",
       "      <th>song_id</th>\n",
       "      <th>genre_ids</th>\n",
       "    </tr>\n",
       "  </thead>\n",
       "  <tbody>\n",
       "    <tr>\n",
       "      <th>0</th>\n",
       "      <td>1</td>\n",
       "      <td>352</td>\n",
       "    </tr>\n",
       "    <tr>\n",
       "      <th>1</th>\n",
       "      <td>0</td>\n",
       "      <td>352|1995</td>\n",
       "    </tr>\n",
       "  </tbody>\n",
       "</table>\n",
       "</div>"
      ],
      "text/plain": [
       "   song_id genre_ids\n",
       "0        1       352\n",
       "1        0  352|1995"
      ]
     },
     "execution_count": 8,
     "metadata": {},
     "output_type": "execute_result"
    }
   ],
   "source": [
    "# part1 执行结束后再来执行\n",
    "song.head()"
   ]
  },
  {
   "cell_type": "markdown",
   "metadata": {},
   "source": [
    "下面来讲如何做到这样"
   ]
  },
  {
   "cell_type": "markdown",
   "metadata": {},
   "source": [
    "####  step 1 利用 series.str.* 这些预置文本函数处理文本\n",
    "首先，我们需要利用pandas的str类函数 ， 把genre_ids split 开"
   ]
  },
  {
   "cell_type": "code",
   "execution_count": 9,
   "metadata": {
    "collapsed": false
   },
   "outputs": [
    {
     "data": {
      "text/html": [
       "<div>\n",
       "<style scoped>\n",
       "    .dataframe tbody tr th:only-of-type {\n",
       "        vertical-align: middle;\n",
       "    }\n",
       "\n",
       "    .dataframe tbody tr th {\n",
       "        vertical-align: top;\n",
       "    }\n",
       "\n",
       "    .dataframe thead th {\n",
       "        text-align: right;\n",
       "    }\n",
       "</style>\n",
       "<table border=\"1\" class=\"dataframe\">\n",
       "  <thead>\n",
       "    <tr style=\"text-align: right;\">\n",
       "      <th></th>\n",
       "      <th>song_id</th>\n",
       "      <th>genre_ids</th>\n",
       "    </tr>\n",
       "  </thead>\n",
       "  <tbody>\n",
       "    <tr>\n",
       "      <th>0</th>\n",
       "      <td>1</td>\n",
       "      <td>[352]</td>\n",
       "    </tr>\n",
       "    <tr>\n",
       "      <th>1</th>\n",
       "      <td>0</td>\n",
       "      <td>[352, 1995]</td>\n",
       "    </tr>\n",
       "  </tbody>\n",
       "</table>\n",
       "</div>"
      ],
      "text/plain": [
       "   song_id    genre_ids\n",
       "0        1        [352]\n",
       "1        0  [352, 1995]"
      ]
     },
     "execution_count": 9,
     "metadata": {},
     "output_type": "execute_result"
    }
   ],
   "source": [
    "song.genre_ids = song.genre_ids.str.split(r\"|\")\n",
    "song.head()"
   ]
  },
  {
   "cell_type": "markdown",
   "metadata": {},
   "source": [
    "\n",
    "\n"
   ]
  },
  {
   "cell_type": "markdown",
   "metadata": {},
   "source": [
    "先做些准备工作：\n",
    "#### step2 使用apply 函数生成中间使用的变量\n",
    "\n",
    "首先，希望把歌曲id变成和体裁一样的形式（处理结果为song_id_forSpread），\n",
    "\n",
    "方便后面展开"
   ]
  },
  {
   "cell_type": "code",
   "execution_count": 10,
   "metadata": {
    "collapsed": false
   },
   "outputs": [
    {
     "data": {
      "text/html": [
       "<div>\n",
       "<style scoped>\n",
       "    .dataframe tbody tr th:only-of-type {\n",
       "        vertical-align: middle;\n",
       "    }\n",
       "\n",
       "    .dataframe tbody tr th {\n",
       "        vertical-align: top;\n",
       "    }\n",
       "\n",
       "    .dataframe thead th {\n",
       "        text-align: right;\n",
       "    }\n",
       "</style>\n",
       "<table border=\"1\" class=\"dataframe\">\n",
       "  <thead>\n",
       "    <tr style=\"text-align: right;\">\n",
       "      <th></th>\n",
       "      <th>song_id</th>\n",
       "      <th>genre_ids</th>\n",
       "      <th>numofType</th>\n",
       "      <th>song_id_forSpread</th>\n",
       "    </tr>\n",
       "  </thead>\n",
       "  <tbody>\n",
       "    <tr>\n",
       "      <th>0</th>\n",
       "      <td>1</td>\n",
       "      <td>[352]</td>\n",
       "      <td>1</td>\n",
       "      <td>[1]</td>\n",
       "    </tr>\n",
       "    <tr>\n",
       "      <th>1</th>\n",
       "      <td>0</td>\n",
       "      <td>[352, 1995]</td>\n",
       "      <td>2</td>\n",
       "      <td>[0, 0]</td>\n",
       "    </tr>\n",
       "  </tbody>\n",
       "</table>\n",
       "</div>"
      ],
      "text/plain": [
       "   song_id    genre_ids  numofType song_id_forSpread\n",
       "0        1        [352]          1               [1]\n",
       "1        0  [352, 1995]          2            [0, 0]"
      ]
     },
     "execution_count": 10,
     "metadata": {},
     "output_type": "execute_result"
    }
   ],
   "source": [
    "song['numofType'] = song.genre_ids.apply(lambda x: len(x))\n",
    "\n",
    "song['song_id_forSpread'] = song.song_id.apply(lambda x: [x] ) * song.numofType\n",
    "\n",
    "song.head()"
   ]
  },
  {
   "cell_type": "markdown",
   "metadata": {},
   "source": [
    "#### step3 用python风格的for来生成数据\n",
    "\n",
    "\n",
    "然后就会遇到新的问题，对于一个list ,  a = [[465],[352,1995]] ，\n",
    "\n",
    "如何展开成a = [465,352,1995]\n",
    "\n",
    "这个处理是非常python的：\n",
    "\n"
   ]
  },
  {
   "cell_type": "code",
   "execution_count": 11,
   "metadata": {
    "collapsed": false
   },
   "outputs": [
    {
     "data": {
      "text/plain": [
       "[1, 2, 3, 1, 2]"
      ]
     },
     "execution_count": 11,
     "metadata": {},
     "output_type": "execute_result"
    }
   ],
   "source": [
    "a = [[1,2,3],[1,2]]\n",
    "\n",
    "spreada = [j for i in a for j in i]\n",
    "\n",
    "spreada"
   ]
  },
  {
   "cell_type": "markdown",
   "metadata": {},
   "source": [
    "现在用这个思路来处理数据"
   ]
  },
  {
   "cell_type": "code",
   "execution_count": 12,
   "metadata": {
    "collapsed": false
   },
   "outputs": [],
   "source": [
    "\n",
    "genre_ids = [ j for  i in song.genre_ids for j in i]\n",
    "\n",
    "song_ids = [j for i in song.song_id_forSpread for j in i ]\n",
    "\n",
    "song = pd.DataFrame({'song_id': song_ids,'genre_id' : genre_ids})\n",
    "\n",
    "\n"
   ]
  },
  {
   "cell_type": "code",
   "execution_count": 13,
   "metadata": {
    "collapsed": false
   },
   "outputs": [
    {
     "data": {
      "text/html": [
       "<div>\n",
       "<style scoped>\n",
       "    .dataframe tbody tr th:only-of-type {\n",
       "        vertical-align: middle;\n",
       "    }\n",
       "\n",
       "    .dataframe tbody tr th {\n",
       "        vertical-align: top;\n",
       "    }\n",
       "\n",
       "    .dataframe thead th {\n",
       "        text-align: right;\n",
       "    }\n",
       "</style>\n",
       "<table border=\"1\" class=\"dataframe\">\n",
       "  <thead>\n",
       "    <tr style=\"text-align: right;\">\n",
       "      <th></th>\n",
       "      <th>song_id</th>\n",
       "      <th>genre_id</th>\n",
       "    </tr>\n",
       "  </thead>\n",
       "  <tbody>\n",
       "    <tr>\n",
       "      <th>0</th>\n",
       "      <td>1</td>\n",
       "      <td>352</td>\n",
       "    </tr>\n",
       "    <tr>\n",
       "      <th>1</th>\n",
       "      <td>0</td>\n",
       "      <td>352</td>\n",
       "    </tr>\n",
       "    <tr>\n",
       "      <th>2</th>\n",
       "      <td>0</td>\n",
       "      <td>1995</td>\n",
       "    </tr>\n",
       "  </tbody>\n",
       "</table>\n",
       "</div>"
      ],
      "text/plain": [
       "   song_id genre_id\n",
       "0        1      352\n",
       "1        0      352\n",
       "2        0     1995"
      ]
     },
     "execution_count": 13,
     "metadata": {},
     "output_type": "execute_result"
    }
   ],
   "source": [
    "song = song.reindex(columns  = ['song_id','genre_id'])\n",
    "song.head()"
   ]
  },
  {
   "cell_type": "code",
   "execution_count": null,
   "metadata": {
    "collapsed": false
   },
   "outputs": [],
   "source": []
  },
  {
   "cell_type": "markdown",
   "metadata": {},
   "source": [
    "可以看出已经实现了想要的结果\n"
   ]
  },
  {
   "cell_type": "markdown",
   "metadata": {},
   "source": [
    "### part 2 用户/商品相似度 计算过程中的坑"
   ]
  },
  {
   "cell_type": "markdown",
   "metadata": {},
   "source": [
    "在将数据导入后，就需要将用户和用户的相似度计算出来\n",
    "\n",
    "这部分的问题主要有两个\n",
    "\n",
    "- 相似度如何计算？\n",
    "\n",
    "- 计算后的数据如何存储\n",
    "\n",
    "- 关于用户/商品缺失tag"
   ]
  },
  {
   "cell_type": "markdown",
   "metadata": {},
   "source": [
    "#### 2.1 相似度如何计算？\n",
    "\n",
    "相似度的计算分为两个部分：\n",
    "\n",
    "- item-tag 稀疏矩阵的创建\n",
    "- 余弦相似度的计算\n",
    "\n",
    "下面一一介绍这些内容\n",
    "\n",
    "##### 2.1.1 item-tag 稀疏矩阵的创建"
   ]
  },
  {
   "cell_type": "markdown",
   "metadata": {},
   "source": [
    "在进行数据的清洗后，我们获得了如下的数据形式："
   ]
  },
  {
   "cell_type": "code",
   "execution_count": 14,
   "metadata": {
    "collapsed": false
   },
   "outputs": [
    {
     "data": {
      "text/html": [
       "<div>\n",
       "<style scoped>\n",
       "    .dataframe tbody tr th:only-of-type {\n",
       "        vertical-align: middle;\n",
       "    }\n",
       "\n",
       "    .dataframe tbody tr th {\n",
       "        vertical-align: top;\n",
       "    }\n",
       "\n",
       "    .dataframe thead th {\n",
       "        text-align: right;\n",
       "    }\n",
       "</style>\n",
       "<table border=\"1\" class=\"dataframe\">\n",
       "  <thead>\n",
       "    <tr style=\"text-align: right;\">\n",
       "      <th></th>\n",
       "      <th>song_id</th>\n",
       "      <th>genre_id</th>\n",
       "    </tr>\n",
       "  </thead>\n",
       "  <tbody>\n",
       "    <tr>\n",
       "      <th>0</th>\n",
       "      <td>1</td>\n",
       "      <td>352</td>\n",
       "    </tr>\n",
       "    <tr>\n",
       "      <th>1</th>\n",
       "      <td>0</td>\n",
       "      <td>352</td>\n",
       "    </tr>\n",
       "    <tr>\n",
       "      <th>2</th>\n",
       "      <td>0</td>\n",
       "      <td>1995</td>\n",
       "    </tr>\n",
       "  </tbody>\n",
       "</table>\n",
       "</div>"
      ],
      "text/plain": [
       "   song_id genre_id\n",
       "0        1      352\n",
       "1        0      352\n",
       "2        0     1995"
      ]
     },
     "execution_count": 14,
     "metadata": {},
     "output_type": "execute_result"
    }
   ],
   "source": [
    "song.head()"
   ]
  },
  {
   "cell_type": "markdown",
   "metadata": {},
   "source": [
    "首先，我们需要对于genre_id进行编码"
   ]
  },
  {
   "cell_type": "code",
   "execution_count": 15,
   "metadata": {
    "collapsed": false
   },
   "outputs": [
    {
     "data": {
      "text/html": [
       "<div>\n",
       "<style scoped>\n",
       "    .dataframe tbody tr th:only-of-type {\n",
       "        vertical-align: middle;\n",
       "    }\n",
       "\n",
       "    .dataframe tbody tr th {\n",
       "        vertical-align: top;\n",
       "    }\n",
       "\n",
       "    .dataframe thead th {\n",
       "        text-align: right;\n",
       "    }\n",
       "</style>\n",
       "<table border=\"1\" class=\"dataframe\">\n",
       "  <thead>\n",
       "    <tr style=\"text-align: right;\">\n",
       "      <th></th>\n",
       "      <th>song_id</th>\n",
       "      <th>genre_id</th>\n",
       "    </tr>\n",
       "  </thead>\n",
       "  <tbody>\n",
       "    <tr>\n",
       "      <th>0</th>\n",
       "      <td>1</td>\n",
       "      <td>1</td>\n",
       "    </tr>\n",
       "    <tr>\n",
       "      <th>1</th>\n",
       "      <td>0</td>\n",
       "      <td>1</td>\n",
       "    </tr>\n",
       "    <tr>\n",
       "      <th>2</th>\n",
       "      <td>0</td>\n",
       "      <td>0</td>\n",
       "    </tr>\n",
       "  </tbody>\n",
       "</table>\n",
       "</div>"
      ],
      "text/plain": [
       "   song_id  genre_id\n",
       "0        1         1\n",
       "1        0         1\n",
       "2        0         0"
      ]
     },
     "execution_count": 15,
     "metadata": {},
     "output_type": "execute_result"
    }
   ],
   "source": [
    "le = LabelEncoder()\n",
    "le.fit(song['genre_id'])\n",
    "originalName = song['genre_id']\n",
    "song['genre_id'] = le.transform(song['genre_id'])\n",
    "song.head()"
   ]
  },
  {
   "cell_type": "markdown",
   "metadata": {},
   "source": [
    "现在，我们希望把这个数据化为sparse矩阵的形式，使得每行代表一首歌，每列代表一个tag，\n",
    "\n",
    "稀疏矩阵中，x[i,j] = 1 表示第i个商品有第j个tag，x[i,j] = 0 表示没有这个tag\n",
    "\n",
    "使用csr_matrix 工具，我们可以轻易的完成这个步骤"
   ]
  },
  {
   "cell_type": "code",
   "execution_count": 16,
   "metadata": {
    "collapsed": false
   },
   "outputs": [],
   "source": [
    "from  scipy.sparse import csr_matrix"
   ]
  },
  {
   "cell_type": "code",
   "execution_count": 17,
   "metadata": {
    "collapsed": false
   },
   "outputs": [],
   "source": [
    "# 设置需要填充进稀疏矩阵的数值\n",
    "song['value'] = 1\n",
    "\n",
    "# 创建矩阵\n",
    "\n",
    "song_tag = csr_matrix((song.value,(song.song_id,song.genre_id)))"
   ]
  },
  {
   "cell_type": "code",
   "execution_count": 18,
   "metadata": {
    "collapsed": false
   },
   "outputs": [
    {
     "data": {
      "text/plain": [
       "matrix([[1, 1],\n",
       "        [0, 1]], dtype=int64)"
      ]
     },
     "execution_count": 18,
     "metadata": {},
     "output_type": "execute_result"
    }
   ],
   "source": [
    "song_tag.todense()"
   ]
  },
  {
   "cell_type": "markdown",
   "metadata": {},
   "source": [
    "##### 2.1.2 item-item 余弦相似度的计算\n",
    "\n",
    "在获得了item-tag 矩阵后，我们依据这个矩阵，对于每个item，都有一个对应的向量\n",
    "\n",
    "而根据这个向量，可以计算item-item的相似度"
   ]
  },
  {
   "cell_type": "markdown",
   "metadata": {},
   "source": [
    "*但是注意： csr_matrix 默认只要和numpy.array 做运算，会转化为numpy的实矩阵，*\n",
    "\n",
    "\n",
    "*很容易造成内存不足！所以做运算是必须尽量使用csr_matrix自带的矩阵预算*"
   ]
  },
  {
   "cell_type": "markdown",
   "metadata": {},
   "source": [
    "扩展：余弦相似度如何计算:"
   ]
  },
  {
   "cell_type": "markdown",
   "metadata": {
    "collapsed": true
   },
   "source": [
    "![1](./cosine/1.png)"
   ]
  },
  {
   "cell_type": "markdown",
   "metadata": {},
   "source": [
    "- step 1 计算内积\n",
    "![step1](./cosine/step1.png)"
   ]
  },
  {
   "cell_type": "code",
   "execution_count": 24,
   "metadata": {
    "collapsed": false
   },
   "outputs": [
    {
     "data": {
      "text/plain": [
       "matrix([[2, 1],\n",
       "        [1, 1]], dtype=int64)"
      ]
     },
     "execution_count": 24,
     "metadata": {},
     "output_type": "execute_result"
    }
   ],
   "source": [
    "_dot = song_tag.dot(song_tag.transpose()).todense()\n",
    "_dot"
   ]
  },
  {
   "cell_type": "markdown",
   "metadata": {},
   "source": [
    "- step 2 计算每个item总共有几个标签\n",
    "![step2](./cosine/step2.png)"
   ]
  },
  {
   "cell_type": "code",
   "execution_count": 37,
   "metadata": {
    "collapsed": false
   },
   "outputs": [
    {
     "data": {
      "text/plain": [
       "array([2, 1], dtype=int64)"
      ]
     },
     "execution_count": 37,
     "metadata": {},
     "output_type": "execute_result"
    }
   ],
   "source": [
    "_sum = song_tag.multiply(song_tag).sum(1)\n",
    "_sum =_sum.A.ravel()\n",
    "_sum"
   ]
  },
  {
   "cell_type": "markdown",
   "metadata": {},
   "source": [
    "![step3](./cosine/step3.png)"
   ]
  },
  {
   "cell_type": "code",
   "execution_count": 43,
   "metadata": {
    "collapsed": false
   },
   "outputs": [
    {
     "data": {
      "text/plain": [
       "matrix([[ 0.70710678,  0.        ],\n",
       "        [ 0.        ,  1.        ]])"
      ]
     },
     "execution_count": 43,
     "metadata": {},
     "output_type": "execute_result"
    }
   ],
   "source": [
    "from scipy.sparse import diags\n",
    "import numpy as np\n",
    "B = diags( 1/np.sqrt(_sum) )\n",
    "B.todense()"
   ]
  },
  {
   "cell_type": "markdown",
   "metadata": {},
   "source": [
    "*注意，这里diags不能接受matrix作为参数，必须接受shape为(L,)形式的arrayy*\n",
    "\n",
    "*所以使用了 _sum =_sum.A.ravel() 对matrix 转成array*"
   ]
  },
  {
   "cell_type": "markdown",
   "metadata": {},
   "source": [
    "![step4](./cosine/step4.png)"
   ]
  },
  {
   "cell_type": "code",
   "execution_count": 45,
   "metadata": {
    "collapsed": false
   },
   "outputs": [
    {
     "data": {
      "text/plain": [
       "matrix([[ 1.        ,  0.70710678],\n",
       "        [ 0.70710678,  1.        ]])"
      ]
     },
     "execution_count": 45,
     "metadata": {},
     "output_type": "execute_result"
    }
   ],
   "source": [
    "# in python3 ：  ‘@’ means ‘dot’\n",
    "result = B @ _dot @ B\n",
    "result"
   ]
  },
  {
   "cell_type": "markdown",
   "metadata": {},
   "source": [
    "#### 2.2  计算结果如何存储？"
   ]
  },
  {
   "cell_type": "markdown",
   "metadata": {},
   "source": [
    "注意到这里计算出来的 item-item相似度矩阵，虽然是稀疏的，但是实际上是很大的\n",
    "\n",
    "所以在计算时，不能一次把全部的余弦相似度计算出来，而应该按照如下思路处理：\n",
    "\n",
    "   - 每次计算n个item和全部商品的相似度，得到一个$ [n*N] $ 大小的子矩阵\n",
    "   - 然后将这个部分的数据存到外存中\n",
    "   - 重复上述操作，得到所有的结果"
   ]
  },
  {
   "cell_type": "markdown",
   "metadata": {},
   "source": [
    "而这一过程涉及到将稀疏矩阵存储到外存中的问题，我们找了很多方法，最终使用的工具是h5sparse\n",
    "\n",
    "其官方链接如下：\n",
    "https://pypi.python.org/pypi/h5sparse/0.0.4\n",
    "\n",
    "在此不详细展开"
   ]
  },
  {
   "cell_type": "markdown",
   "metadata": {},
   "source": [
    "最后，贴一段计算用户相似度的代码，感受下工作量：\n",
    "其中，还有很多小细节，如：\n",
    "\n",
    "   - 对于相似度小于阈值的相关关系的去除\n",
    "   - 只取每个item 相关关系最强的N个相似度的方法\n",
    "   - 当item缺失tag信息的处理方法\n",
    "   \n",
    "在此不详细说明\n",
    "   \n",
    "   \n",
    "```python\n",
    "\n",
    "\n",
    "def LargeSparseMatrixCosine(largeSparseMatrix,ObjectNoAttr,\n",
    "                            num = 5000,select = 0.7,\n",
    "                            fileplace = \"D:\\\\tempdata\\\\\",\n",
    "                            prefix = \"item\",plan = 'A'\n",
    "                            ):\n",
    "    # 如果对应对象没有分类，那么会把它和任何人的关系设为1\n",
    "    # this method will save the result in disk\n",
    "    (rowNum,colNum) = largeSparseMatrix.shape\n",
    "    sep = np.linspace(0,rowNum,endpoint=True,dtype=np.int64,num=num)\n",
    "    # calculate the L2 of each vector\n",
    "    lenOfVec = np.sqrt(largeSparseMatrix.multiply(largeSparseMatrix).\\\n",
    "                            sum(axis=1).A.ravel()\n",
    "                            )\n",
    "    lenOfVecAll = diags(1 / lenOfVec)\n",
    "    print(\"#############  please  be patient ############## \\n \\n\")\n",
    "    print(\"### object size is   \" +str(rowNum) +\"*\"+ str(rowNum) + \"  ####\" )\n",
    "    for index,value in enumerate(sep):\n",
    "        if index+1 < len(sep):\n",
    "        #if i < 40:\n",
    "            #print(i,j)\n",
    "            # get a block from the ogininal matrix\n",
    "            block_of_sparse = largeSparseMatrix[value:sep[index+1],:]\n",
    "\n",
    "            # calculate the dot\n",
    "            dot_product_of_block = block_of_sparse.dot(\n",
    "                                        largeSparseMatrix.transpose()\n",
    "                                    )\n",
    "            lenOfBlockVec = diags(1/ lenOfVec[value:sep[index+1]])\n",
    "\n",
    "            dot_cosine = lenOfBlockVec @ dot_product_of_block @ lenOfVecAll\n",
    "\n",
    "            #　we just select few of them to build net work\n",
    "            if select <=1 :\n",
    "                # then just select the relationship with doc_cosine > select\n",
    "                dot_cosine = dot_cosine.multiply( dot_cosine > select )\n",
    "            else:\n",
    "                if plan == 'A':\n",
    "                    # if select = 100\n",
    "                    # then select the first 100 friends of each user\n",
    "                    #dot_cosine_data = sparseToPandas(dot_cosine)\n",
    "                    dot_cosine = dot_cosine.todense()\n",
    "                    dot_cosineSort = dot_cosine.copy()\n",
    "                    dot_cosineSort.sort()\n",
    "                    dot_cosineSort = dot_cosineSort[:,-select]\n",
    "                    # return a sparse\n",
    "                    dot_cosine[dot_cosine < dot_cosineSort] = 0\n",
    "                    dot_cosine = csr_matrix(dot_cosine)\n",
    "                else:\n",
    "                    dot_cosineDF = sparseToPandas(dot_cosine)\n",
    "                    dot_cosineDF = dot_cosineDF.groupby('row').apply(lambda df:df.nlargest(select,'data'))\n",
    "                    dot_cosine = pandasToSparse(dot_cosineDF)\n",
    "\n",
    "\n",
    "\n",
    "            HasObjectWithNoAttr =np.array(list( set(ObjectNoAttr) & set(list(range(value, sep[index + 1])))))\n",
    "\n",
    "            if( len(HasObjectWithNoAttr) != 0 ):\n",
    "                dot_cosine[HasObjectWithNoAttr-value,:] = 1\n",
    "\n",
    "\n",
    "            gc.collect()\n",
    "\n",
    "\n",
    "            if index == 0:\n",
    "                # if its the first loop\n",
    "                # check if dot_cosine.h5 is exists or not\n",
    "                # if exists , clean it\n",
    "                # create the file dot_cosine.h5\n",
    "                with  h5py.File(fileplace+prefix+\"dot_cosine.h5\") as h5f:\n",
    "                    for key in h5f.keys():\n",
    "                        del h5f[key]\n",
    "                with h5sparse.File(fileplace+prefix+\"dot_cosine.h5\") as h5f:\n",
    "                    h5f.create_dataset(\n",
    "                        \"dot_cosineData/data\", data=dot_cosine,\n",
    "                        chunks=(10000,), maxshape=(None,)\n",
    "                    )\n",
    "            else:\n",
    "                with h5sparse.File(fileplace+prefix+\"dot_cosine.h5\") as h5f:\n",
    "                    h5f['dot_cosineData/data'].append(dot_cosine)\n",
    "\n",
    "\n",
    "            del dot_cosine,lenOfBlockVec,h5f\n",
    "            gc.collect()\n",
    "            print(\"Social net work for \" + prefix +  \" is now  preparing \")\n",
    "            preparePercent = (1+index)/(len(sep)-1)\n",
    "            preparePercent = round(preparePercent,4)\n",
    "            print(str(preparePercent) ,\" percent of Social Network is prepared \")\n",
    "    print(\"#####  social net work data for  \" +prefix +\"  is prepared successful   ##########\")\n",
    "\n",
    "\n",
    "\n",
    "\n",
    "```"
   ]
  },
  {
   "cell_type": "markdown",
   "metadata": {},
   "source": [
    "### part 3 关于用户距离计算中遇到的坑"
   ]
  },
  {
   "cell_type": "markdown",
   "metadata": {},
   "source": [
    "在整个计算过程中，最难得一点无疑是计算这个鬼东西："
   ]
  },
  {
   "cell_type": "markdown",
   "metadata": {
    "collapsed": true
   },
   "source": [
    "\n",
    "![question](./dis/question.png)"
   ]
  },
  {
   "cell_type": "markdown",
   "metadata": {},
   "source": [
    "这个问题的解法如下"
   ]
  },
  {
   "cell_type": "markdown",
   "metadata": {},
   "source": [
    "![hint](./dis/hint.png)"
   ]
  },
  {
   "cell_type": "markdown",
   "metadata": {},
   "source": [
    "具体步骤为"
   ]
  },
  {
   "cell_type": "markdown",
   "metadata": {},
   "source": [
    "![answer](./dis/answer.png)"
   ]
  },
  {
   "cell_type": "markdown",
   "metadata": {},
   "source": [
    "另外，注意到用户(item)和用户(item)间的distance如果直接存储是一个实矩阵，则占用的存储空间会是十分巨大的，所以在计算时，\n",
    "\n",
    "还需要把用户(item)和用户(item)的相似性矩阵中的稀疏性应用到distance的存储中\n",
    "\n",
    "即：如果两个用户之间没有相关性，则不存储他们两个之间的距离\n"
   ]
  },
  {
   "cell_type": "code",
   "execution_count": null,
   "metadata": {
    "collapsed": true
   },
   "outputs": [],
   "source": []
  }
 ],
 "metadata": {
  "anaconda-cloud": {},
  "kernelspec": {
   "display_name": "Python [conda root]",
   "language": "python",
   "name": "conda-root-py"
  },
  "language_info": {
   "codemirror_mode": {
    "name": "ipython",
    "version": 3
   },
   "file_extension": ".py",
   "mimetype": "text/x-python",
   "name": "python",
   "nbconvert_exporter": "python",
   "pygments_lexer": "ipython3",
   "version": "3.5.2"
  }
 },
 "nbformat": 4,
 "nbformat_minor": 2
}
