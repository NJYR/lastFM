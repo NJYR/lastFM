{
 "cells": [
  {
   "cell_type": "code",
   "execution_count": 55,
   "metadata": {
    "collapsed": true
   },
   "outputs": [],
   "source": [
    "import pandas as pd\n",
    "import numpy as np\n",
    "import os\n",
    "os.chdir(\"C:\\\\Users\\\\22560\\\\PycharmProjects\\\\lastFM\")\n",
    "\n",
    "\n"
   ]
  },
  {
   "cell_type": "markdown",
   "metadata": {},
   "source": [
    "先读取所需要的数据：\n",
    "\n",
    "- validation data set\n",
    "- training data set\n",
    "- latentFactor data set\n"
   ]
  },
  {
   "cell_type": "code",
   "execution_count": 56,
   "metadata": {
    "collapsed": false
   },
   "outputs": [],
   "source": [
    "# read latent factor file\n",
    "import h5py\n",
    "latent_factor_file = h5py.File('hetrec2011-lastfm-2k\\\\latentFactor.hdf5', 'r')\n",
    "user_latent_factor_matrix = latent_factor_file['userLatentFactor'].value\n",
    "item_latent_factor_matrix = latent_factor_file['itemLatentFactor'].value\n",
    "\n"
   ]
  },
  {
   "cell_type": "code",
   "execution_count": 57,
   "metadata": {
    "collapsed": false
   },
   "outputs": [
    {
     "data": {
      "text/plain": [
       "((1892, 400), (18022, 400))"
      ]
     },
     "execution_count": 57,
     "metadata": {},
     "output_type": "execute_result"
    }
   ],
   "source": [
    "user_latent_factor_matrix.shape,item_latent_factor_matrix.shape"
   ]
  },
  {
   "cell_type": "code",
   "execution_count": 58,
   "metadata": {
    "collapsed": false
   },
   "outputs": [
    {
     "name": "stdout",
     "output_type": "stream",
     "text": [
      "<class 'pandas.core.frame.DataFrame'>\n",
      "RangeIndex: 18567 entries, 0 to 18566\n",
      "Data columns (total 3 columns):\n",
      "userID      18567 non-null int64\n",
      "artistID    18567 non-null int64\n",
      "weight      18567 non-null float64\n",
      "dtypes: float64(1), int64(2)\n",
      "memory usage: 435.2 KB\n",
      "<class 'pandas.core.frame.DataFrame'>\n",
      "RangeIndex: 74269 entries, 0 to 74268\n",
      "Data columns (total 3 columns):\n",
      "userID      74269 non-null int64\n",
      "artistID    74269 non-null int64\n",
      "weight      74269 non-null float64\n",
      "dtypes: float64(1), int64(2)\n",
      "memory usage: 1.7 MB\n"
     ]
    },
    {
     "data": {
      "text/plain": [
       "(None, None)"
      ]
     },
     "execution_count": 58,
     "metadata": {},
     "output_type": "execute_result"
    }
   ],
   "source": [
    "# read validation dataset\n",
    "validationSet = pd.read_csv(\"hetrec2011-lastfm-2k\\\\validationAfterlog.csv\")\n",
    "\n",
    "# read training dataset\n",
    "\n",
    "trainSet =  pd.read_csv(\"hetrec2011-lastfm-2k\\\\trainAfterDealing.csv\")\n",
    "\n",
    "validationSet.info(), trainSet.info()"
   ]
  },
  {
   "cell_type": "markdown",
   "metadata": {},
   "source": [
    "为了说明问题，我们需要找打那些在validation上出现过，且只在validation上出现过的歌"
   ]
  },
  {
   "cell_type": "code",
   "execution_count": 59,
   "metadata": {
    "collapsed": false
   },
   "outputs": [
    {
     "data": {
      "text/html": [
       "<div>\n",
       "<style scoped>\n",
       "    .dataframe tbody tr th:only-of-type {\n",
       "        vertical-align: middle;\n",
       "    }\n",
       "\n",
       "    .dataframe tbody tr th {\n",
       "        vertical-align: top;\n",
       "    }\n",
       "\n",
       "    .dataframe thead th {\n",
       "        text-align: right;\n",
       "    }\n",
       "</style>\n",
       "<table border=\"1\" class=\"dataframe\">\n",
       "  <thead>\n",
       "    <tr style=\"text-align: right;\">\n",
       "      <th></th>\n",
       "      <th>userID</th>\n",
       "      <th>artistID</th>\n",
       "      <th>weight</th>\n",
       "    </tr>\n",
       "  </thead>\n",
       "  <tbody>\n",
       "    <tr>\n",
       "      <th>0</th>\n",
       "      <td>291</td>\n",
       "      <td>2085</td>\n",
       "      <td>6.664409</td>\n",
       "    </tr>\n",
       "    <tr>\n",
       "      <th>1</th>\n",
       "      <td>601</td>\n",
       "      <td>602</td>\n",
       "      <td>6.013715</td>\n",
       "    </tr>\n",
       "    <tr>\n",
       "      <th>2</th>\n",
       "      <td>320</td>\n",
       "      <td>1043</td>\n",
       "      <td>4.634729</td>\n",
       "    </tr>\n",
       "    <tr>\n",
       "      <th>3</th>\n",
       "      <td>1622</td>\n",
       "      <td>524</td>\n",
       "      <td>4.330733</td>\n",
       "    </tr>\n",
       "    <tr>\n",
       "      <th>4</th>\n",
       "      <td>913</td>\n",
       "      <td>752</td>\n",
       "      <td>7.189168</td>\n",
       "    </tr>\n",
       "  </tbody>\n",
       "</table>\n",
       "</div>"
      ],
      "text/plain": [
       "   userID  artistID    weight\n",
       "0     291      2085  6.664409\n",
       "1     601       602  6.013715\n",
       "2     320      1043  4.634729\n",
       "3    1622       524  4.330733\n",
       "4     913       752  7.189168"
      ]
     },
     "execution_count": 59,
     "metadata": {},
     "output_type": "execute_result"
    }
   ],
   "source": [
    "validationSet.head()"
   ]
  },
  {
   "cell_type": "markdown",
   "metadata": {},
   "source": [
    "通过groupby方法，可以获得哪些在validation中只被听过一次的歌"
   ]
  },
  {
   "cell_type": "code",
   "execution_count": 60,
   "metadata": {
    "collapsed": false
   },
   "outputs": [],
   "source": [
    "countArtists = validationSet.groupby('artistID')['weight'].count()\n",
    "songHasListenedOnce = countArtists[countArtists == 1].index.tolist()\n",
    "songHasListenedOnce = set(songHasListenedOnce)\n"
   ]
  },
  {
   "cell_type": "markdown",
   "metadata": {},
   "source": [
    "查看这些歌中，在train中出现的歌"
   ]
  },
  {
   "cell_type": "markdown",
   "metadata": {},
   "source": [
    "#####  注意这里isin方法的使用"
   ]
  },
  {
   "cell_type": "code",
   "execution_count": 61,
   "metadata": {
    "collapsed": false
   },
   "outputs": [],
   "source": [
    "songListenedInTrain = set(trainSet[trainSet.artistID.isin(songHasListenedOnce)].artistID)"
   ]
  },
  {
   "cell_type": "markdown",
   "metadata": {},
   "source": [
    "找到那些没有在train中出现过的歌：\n"
   ]
  },
  {
   "cell_type": "code",
   "execution_count": 62,
   "metadata": {
    "collapsed": false
   },
   "outputs": [
    {
     "data": {
      "text/plain": [
       "[16385, 16387, 16389, 8198, 19, 21, 16406, 8218, 8221, 8225]"
      ]
     },
     "execution_count": 62,
     "metadata": {},
     "output_type": "execute_result"
    }
   ],
   "source": [
    "onlyListendInValidation = list((songHasListenedOnce - songListenedInTrain))\n",
    "onlyListendInValidation[:10]"
   ]
  },
  {
   "cell_type": "markdown",
   "metadata": {},
   "source": [
    "找到validation中这些歌对应的子集"
   ]
  },
  {
   "cell_type": "code",
   "execution_count": 63,
   "metadata": {
    "collapsed": false
   },
   "outputs": [
    {
     "data": {
      "text/html": [
       "<div>\n",
       "<style scoped>\n",
       "    .dataframe tbody tr th:only-of-type {\n",
       "        vertical-align: middle;\n",
       "    }\n",
       "\n",
       "    .dataframe tbody tr th {\n",
       "        vertical-align: top;\n",
       "    }\n",
       "\n",
       "    .dataframe thead th {\n",
       "        text-align: right;\n",
       "    }\n",
       "</style>\n",
       "<table border=\"1\" class=\"dataframe\">\n",
       "  <thead>\n",
       "    <tr style=\"text-align: right;\">\n",
       "      <th></th>\n",
       "      <th>userID</th>\n",
       "      <th>artistID</th>\n",
       "      <th>weight</th>\n",
       "    </tr>\n",
       "  </thead>\n",
       "  <tbody>\n",
       "    <tr>\n",
       "      <th>14237</th>\n",
       "      <td>74</td>\n",
       "      <td>2150</td>\n",
       "      <td>5.105945</td>\n",
       "    </tr>\n",
       "  </tbody>\n",
       "</table>\n",
       "</div>"
      ],
      "text/plain": [
       "       userID  artistID    weight\n",
       "14237      74      2150  5.105945"
      ]
     },
     "execution_count": 63,
     "metadata": {},
     "output_type": "execute_result"
    }
   ],
   "source": [
    "vali_onlylistendinvali = validationSet[validationSet.artistID.isin(onlyListendInValidation)].copy()\n",
    "vali_onlylistendinvali.sort_values(by = ['userID','artistID'],inplace = True)\n",
    "vali_onlylistendinvali[vali_onlylistendinvali.userID == 74]"
   ]
  },
  {
   "cell_type": "code",
   "execution_count": 64,
   "metadata": {
    "collapsed": false
   },
   "outputs": [
    {
     "data": {
      "text/html": [
       "<div>\n",
       "<style scoped>\n",
       "    .dataframe tbody tr th:only-of-type {\n",
       "        vertical-align: middle;\n",
       "    }\n",
       "\n",
       "    .dataframe tbody tr th {\n",
       "        vertical-align: top;\n",
       "    }\n",
       "\n",
       "    .dataframe thead th {\n",
       "        text-align: right;\n",
       "    }\n",
       "</style>\n",
       "<table border=\"1\" class=\"dataframe\">\n",
       "  <thead>\n",
       "    <tr style=\"text-align: right;\">\n",
       "      <th></th>\n",
       "      <th>userID</th>\n",
       "      <th>artistID</th>\n",
       "      <th>weight</th>\n",
       "    </tr>\n",
       "  </thead>\n",
       "  <tbody>\n",
       "    <tr>\n",
       "      <th>2916</th>\n",
       "      <td>74</td>\n",
       "      <td>99</td>\n",
       "      <td>4.736198</td>\n",
       "    </tr>\n",
       "    <tr>\n",
       "      <th>2917</th>\n",
       "      <td>74</td>\n",
       "      <td>152</td>\n",
       "      <td>4.762174</td>\n",
       "    </tr>\n",
       "    <tr>\n",
       "      <th>2918</th>\n",
       "      <td>74</td>\n",
       "      <td>172</td>\n",
       "      <td>4.691348</td>\n",
       "    </tr>\n",
       "    <tr>\n",
       "      <th>2919</th>\n",
       "      <td>74</td>\n",
       "      <td>179</td>\n",
       "      <td>5.093750</td>\n",
       "    </tr>\n",
       "    <tr>\n",
       "      <th>2920</th>\n",
       "      <td>74</td>\n",
       "      <td>601</td>\n",
       "      <td>7.091742</td>\n",
       "    </tr>\n",
       "  </tbody>\n",
       "</table>\n",
       "</div>"
      ],
      "text/plain": [
       "      userID  artistID    weight\n",
       "2916      74        99  4.736198\n",
       "2917      74       152  4.762174\n",
       "2918      74       172  4.691348\n",
       "2919      74       179  5.093750\n",
       "2920      74       601  7.091742"
      ]
     },
     "execution_count": 64,
     "metadata": {},
     "output_type": "execute_result"
    }
   ],
   "source": [
    "trainSet[trainSet.userID == 74].head()"
   ]
  },
  {
   "cell_type": "markdown",
   "metadata": {},
   "source": [
    "注意到其中一条* (780,10352,8.1417) * ,对应获得了780号用户对于10352这首歌曲的评价\n",
    "\n",
    "注意到这个评价满足两个要点：\n",
    "\n",
    "- 10352这首歌在训练集中从来没有出现过\n",
    "- 而在测试集中，相当于780号用户爱上了一首大家都没听过的歌\n",
    "\n",
    "我们来看看预测的情况：\n"
   ]
  },
  {
   "cell_type": "code",
   "execution_count": 65,
   "metadata": {
    "collapsed": false
   },
   "outputs": [
    {
     "data": {
      "text/plain": [
       "(1892, 18022)"
      ]
     },
     "execution_count": 65,
     "metadata": {},
     "output_type": "execute_result"
    }
   ],
   "source": [
    "target_hat = user_latent_factor_matrix.dot(item_latent_factor_matrix.transpose())\n",
    "target_hat.shape"
   ]
  },
  {
   "cell_type": "code",
   "execution_count": 66,
   "metadata": {
    "collapsed": false
   },
   "outputs": [
    {
     "data": {
      "text/plain": [
       "5.2723739092182234"
      ]
     },
     "execution_count": 66,
     "metadata": {},
     "output_type": "execute_result"
    }
   ],
   "source": [
    "target_hat[74 , 2150]"
   ]
  },
  {
   "cell_type": "markdown",
   "metadata": {},
   "source": [
    "### 原因分析\n",
    "\n",
    "\n",
    "首先找到这首歌所有相关的歌，看看用户以及其在相关歌上的评价"
   ]
  },
  {
   "cell_type": "code",
   "execution_count": 67,
   "metadata": {
    "collapsed": false
   },
   "outputs": [],
   "source": [
    "userID   = 67\n",
    "artistID = 1992\n",
    "\n",
    "# (74,2150)\n",
    "# （67，1992）\n",
    "# 先找到用户以及其相关的用户\n",
    "import h5sparse\n",
    "user_net  = h5sparse.File(\"networkData\\\\userdot_cosine.h5\",'r') \n",
    "userrelation = user_net['dot_cosineData/data'][userID:(userID+1)].todense().A.ravel()\n",
    "userNum = userrelation.shape[0]\n",
    "userlist  = np.array(list(range(userNum)))\n",
    "relatedUser = userlist[userrelation>0]"
   ]
  },
  {
   "cell_type": "code",
   "execution_count": 68,
   "metadata": {
    "collapsed": false
   },
   "outputs": [
    {
     "data": {
      "text/plain": [
       "array([  67,  200,  824, 1201, 1394])"
      ]
     },
     "execution_count": 68,
     "metadata": {},
     "output_type": "execute_result"
    }
   ],
   "source": [
    "relatedUser"
   ]
  },
  {
   "cell_type": "code",
   "execution_count": 69,
   "metadata": {
    "collapsed": false
   },
   "outputs": [
    {
     "data": {
      "text/html": [
       "<div>\n",
       "<style scoped>\n",
       "    .dataframe tbody tr th:only-of-type {\n",
       "        vertical-align: middle;\n",
       "    }\n",
       "\n",
       "    .dataframe tbody tr th {\n",
       "        vertical-align: top;\n",
       "    }\n",
       "\n",
       "    .dataframe thead th {\n",
       "        text-align: right;\n",
       "    }\n",
       "</style>\n",
       "<table border=\"1\" class=\"dataframe\">\n",
       "  <thead>\n",
       "    <tr style=\"text-align: right;\">\n",
       "      <th></th>\n",
       "      <th>userID</th>\n",
       "      <th>artistID</th>\n",
       "      <th>weight</th>\n",
       "    </tr>\n",
       "  </thead>\n",
       "  <tbody>\n",
       "    <tr>\n",
       "      <th>2639</th>\n",
       "      <td>67</td>\n",
       "      <td>705</td>\n",
       "      <td>5.652489</td>\n",
       "    </tr>\n",
       "    <tr>\n",
       "      <th>2640</th>\n",
       "      <td>67</td>\n",
       "      <td>838</td>\n",
       "      <td>5.463832</td>\n",
       "    </tr>\n",
       "    <tr>\n",
       "      <th>2641</th>\n",
       "      <td>67</td>\n",
       "      <td>913</td>\n",
       "      <td>6.354370</td>\n",
       "    </tr>\n",
       "    <tr>\n",
       "      <th>2642</th>\n",
       "      <td>67</td>\n",
       "      <td>915</td>\n",
       "      <td>7.353082</td>\n",
       "    </tr>\n",
       "    <tr>\n",
       "      <th>2643</th>\n",
       "      <td>67</td>\n",
       "      <td>917</td>\n",
       "      <td>4.997212</td>\n",
       "    </tr>\n",
       "  </tbody>\n",
       "</table>\n",
       "</div>"
      ],
      "text/plain": [
       "      userID  artistID    weight\n",
       "2639      67       705  5.652489\n",
       "2640      67       838  5.463832\n",
       "2641      67       913  6.354370\n",
       "2642      67       915  7.353082\n",
       "2643      67       917  4.997212"
      ]
     },
     "execution_count": 69,
     "metadata": {},
     "output_type": "execute_result"
    }
   ],
   "source": [
    "relatedTrain = trainSet[trainSet.userID.isin(relatedUser)]\n",
    "relatedTrain.head()"
   ]
  },
  {
   "cell_type": "code",
   "execution_count": 77,
   "metadata": {
    "collapsed": false
   },
   "outputs": [],
   "source": [
    "item_net  =  h5sparse.File(\"networkData\\\\itemdot_cosine.h5\",'r') \n",
    "item_net  =  item_net['dot_cosineData/data'].value\n",
    "item_relation = item_net[artistID,:].todense().A.ravel()\n",
    "itemlist = np.array(list(range(item_relation.shape[0])))\n",
    "itemrelated = itemlist[item_relation>0]"
   ]
  },
  {
   "cell_type": "code",
   "execution_count": 93,
   "metadata": {
    "collapsed": false
   },
   "outputs": [
    {
     "data": {
      "text/plain": [
       "(80, 3)"
      ]
     },
     "execution_count": 93,
     "metadata": {},
     "output_type": "execute_result"
    }
   ],
   "source": [
    "relatedTrain_relatedItem = relatedTrain[relatedTrain.artistID.isin(itemrelated)].copy()\n",
    "relatedTrain_relatedItem.shape"
   ]
  },
  {
   "cell_type": "code",
   "execution_count": 83,
   "metadata": {
    "collapsed": false
   },
   "outputs": [],
   "source": [
    "itemdis = h5sparse.File(\"networkData\\\\itemdis.h5\",'r') \n",
    "itemdis = itemdis['disData/data'].value\n",
    "userdis = h5sparse.File(\"networkData\\\\userdis.h5\",\"r\")\n",
    "userdis = userdis['disData/data'].value"
   ]
  },
  {
   "cell_type": "code",
   "execution_count": 109,
   "metadata": {
    "collapsed": false
   },
   "outputs": [],
   "source": [
    "relatedTrain_relatedItem['userdis'] = userdis[userID,relatedTrain_relatedItem.userID].todense().A.ravel()\n",
    "relatedTrain_relatedItem['itemdis'] = itemdis[artistID,relatedTrain_relatedItem.artistID].todense().A.ravel()"
   ]
  },
  {
   "cell_type": "code",
   "execution_count": 110,
   "metadata": {
    "collapsed": false
   },
   "outputs": [],
   "source": [
    "relatedTrain_relatedItem['kernel'] =  np.exp(-np.sqrt((relatedTrain_relatedItem['userdis'] + relatedTrain_relatedItem['itemdis'])/8))"
   ]
  },
  {
   "cell_type": "code",
   "execution_count": 111,
   "metadata": {
    "collapsed": false
   },
   "outputs": [],
   "source": [
    "relatedTrain_relatedItem = relatedTrain_relatedItem.sort_values(by = 'kernel',ascending=False)\n",
    "relatedTrain_relatedItem = relatedTrain_relatedItem.iloc[:5,:]"
   ]
  },
  {
   "cell_type": "code",
   "execution_count": 87,
   "metadata": {
    "collapsed": false
   },
   "outputs": [
    {
     "data": {
      "text/plain": [
       "5.229846207949146"
      ]
     },
     "execution_count": 87,
     "metadata": {},
     "output_type": "execute_result"
    }
   ],
   "source": [
    "relatedTrain_relatedItem.weight.mean(0)"
   ]
  },
  {
   "cell_type": "code",
   "execution_count": 88,
   "metadata": {
    "collapsed": false
   },
   "outputs": [
    {
     "data": {
      "text/html": [
       "<div>\n",
       "<style scoped>\n",
       "    .dataframe tbody tr th:only-of-type {\n",
       "        vertical-align: middle;\n",
       "    }\n",
       "\n",
       "    .dataframe tbody tr th {\n",
       "        vertical-align: top;\n",
       "    }\n",
       "\n",
       "    .dataframe thead th {\n",
       "        text-align: right;\n",
       "    }\n",
       "</style>\n",
       "<table border=\"1\" class=\"dataframe\">\n",
       "  <thead>\n",
       "    <tr style=\"text-align: right;\">\n",
       "      <th></th>\n",
       "      <th>userID</th>\n",
       "      <th>artistID</th>\n",
       "      <th>weight</th>\n",
       "      <th>userdis</th>\n",
       "      <th>itemdis</th>\n",
       "      <th>kernel</th>\n",
       "    </tr>\n",
       "  </thead>\n",
       "  <tbody>\n",
       "    <tr>\n",
       "      <th>2659</th>\n",
       "      <td>67</td>\n",
       "      <td>1990</td>\n",
       "      <td>5.537334</td>\n",
       "      <td>0.000000</td>\n",
       "      <td>0.991404</td>\n",
       "      <td>0.703259</td>\n",
       "    </tr>\n",
       "    <tr>\n",
       "      <th>32326</th>\n",
       "      <td>824</td>\n",
       "      <td>1412</td>\n",
       "      <td>6.278521</td>\n",
       "      <td>0.656840</td>\n",
       "      <td>0.597603</td>\n",
       "      <td>0.673016</td>\n",
       "    </tr>\n",
       "    <tr>\n",
       "      <th>47262</th>\n",
       "      <td>1201</td>\n",
       "      <td>2957</td>\n",
       "      <td>4.094345</td>\n",
       "      <td>0.596838</td>\n",
       "      <td>1.005594</td>\n",
       "      <td>0.639190</td>\n",
       "    </tr>\n",
       "    <tr>\n",
       "      <th>47270</th>\n",
       "      <td>1201</td>\n",
       "      <td>6570</td>\n",
       "      <td>4.262680</td>\n",
       "      <td>0.596838</td>\n",
       "      <td>1.346074</td>\n",
       "      <td>0.610906</td>\n",
       "    </tr>\n",
       "    <tr>\n",
       "      <th>2646</th>\n",
       "      <td>67</td>\n",
       "      <td>939</td>\n",
       "      <td>5.976351</td>\n",
       "      <td>0.000000</td>\n",
       "      <td>2.067017</td>\n",
       "      <td>0.601512</td>\n",
       "    </tr>\n",
       "  </tbody>\n",
       "</table>\n",
       "</div>"
      ],
      "text/plain": [
       "       userID  artistID    weight   userdis   itemdis    kernel\n",
       "2659       67      1990  5.537334  0.000000  0.991404  0.703259\n",
       "32326     824      1412  6.278521  0.656840  0.597603  0.673016\n",
       "47262    1201      2957  4.094345  0.596838  1.005594  0.639190\n",
       "47270    1201      6570  4.262680  0.596838  1.346074  0.610906\n",
       "2646       67       939  5.976351  0.000000  2.067017  0.601512"
      ]
     },
     "execution_count": 88,
     "metadata": {},
     "output_type": "execute_result"
    }
   ],
   "source": [
    "relatedTrain_relatedItem.head()"
   ]
  },
  {
   "cell_type": "markdown",
   "metadata": {
    "collapsed": true
   },
   "source": [
    "### 正式开始吹逼\n",
    "\n",
    "\n",
    "##### 为什么要做这些\n",
    "\n",
    "![tuijian](reason.png)\n",
    "\n",
    "\n",
    "  以某视频网站为例，每年都会需要引进新的动画，而这些动画是不会出现在训练集中的，但是，我们有需要精准的知道哪些用户会对于哪些动画感兴趣，从而合理的进行推荐，这种推荐有两个特点：\n",
    "- 1 之前没有用户对于这些商品的偏好的信息\n",
    "- 2 但是这类型的推荐的需求广泛地存在\n",
    "\n",
    "由于上述两个特性，就有必要研究这类型的推荐系统\n",
    "\n",
    "\n",
    "##### 这是怎么完成的"
   ]
  },
  {
   "cell_type": "markdown",
   "metadata": {},
   "source": [
    "接下来我们以一个例子展示这是怎么做到的\n",
    "\n",
    "首先。我们先找到这样一首歌，它只在测试集中出现过"
   ]
  },
  {
   "cell_type": "code",
   "execution_count": 100,
   "metadata": {
    "collapsed": false
   },
   "outputs": [
    {
     "data": {
      "text/html": [
       "<div>\n",
       "<style scoped>\n",
       "    .dataframe tbody tr th:only-of-type {\n",
       "        vertical-align: middle;\n",
       "    }\n",
       "\n",
       "    .dataframe tbody tr th {\n",
       "        vertical-align: top;\n",
       "    }\n",
       "\n",
       "    .dataframe thead th {\n",
       "        text-align: right;\n",
       "    }\n",
       "</style>\n",
       "<table border=\"1\" class=\"dataframe\">\n",
       "  <thead>\n",
       "    <tr style=\"text-align: right;\">\n",
       "      <th></th>\n",
       "      <th>userID</th>\n",
       "      <th>artistID</th>\n",
       "      <th>weight</th>\n",
       "    </tr>\n",
       "  </thead>\n",
       "  <tbody>\n",
       "    <tr>\n",
       "      <th>441</th>\n",
       "      <td>67</td>\n",
       "      <td>1992</td>\n",
       "      <td>5.347108</td>\n",
       "    </tr>\n",
       "  </tbody>\n",
       "</table>\n",
       "</div>"
      ],
      "text/plain": [
       "     userID  artistID    weight\n",
       "441      67      1992  5.347108"
      ]
     },
     "execution_count": 100,
     "metadata": {},
     "output_type": "execute_result"
    }
   ],
   "source": [
    "vali_onlylistendinvali[vali_onlylistendinvali.artistID == 1992]"
   ]
  },
  {
   "cell_type": "markdown",
   "metadata": {},
   "source": [
    "注意到这首歌之前从来没有在train中出现过，现在来看看我们是怎么预测user 67 对于 这首歌的评价"
   ]
  },
  {
   "cell_type": "markdown",
   "metadata": {},
   "source": [
    "首先。我们先找到user67，以及其相关的用户在train中的所有的评分记录"
   ]
  },
  {
   "cell_type": "code",
   "execution_count": 101,
   "metadata": {
    "collapsed": false
   },
   "outputs": [
    {
     "data": {
      "text/plain": [
       "(177, 3)"
      ]
     },
     "execution_count": 101,
     "metadata": {},
     "output_type": "execute_result"
    }
   ],
   "source": [
    "relatedTrain.shape"
   ]
  },
  {
   "cell_type": "markdown",
   "metadata": {},
   "source": [
    "注意现在相关的评论公有177条"
   ]
  },
  {
   "cell_type": "code",
   "execution_count": 102,
   "metadata": {
    "collapsed": false
   },
   "outputs": [
    {
     "data": {
      "text/html": [
       "<div>\n",
       "<style scoped>\n",
       "    .dataframe tbody tr th:only-of-type {\n",
       "        vertical-align: middle;\n",
       "    }\n",
       "\n",
       "    .dataframe tbody tr th {\n",
       "        vertical-align: top;\n",
       "    }\n",
       "\n",
       "    .dataframe thead th {\n",
       "        text-align: right;\n",
       "    }\n",
       "</style>\n",
       "<table border=\"1\" class=\"dataframe\">\n",
       "  <thead>\n",
       "    <tr style=\"text-align: right;\">\n",
       "      <th></th>\n",
       "      <th>userID</th>\n",
       "      <th>artistID</th>\n",
       "      <th>weight</th>\n",
       "    </tr>\n",
       "  </thead>\n",
       "  <tbody>\n",
       "    <tr>\n",
       "      <th>32320</th>\n",
       "      <td>824</td>\n",
       "      <td>913</td>\n",
       "      <td>6.122493</td>\n",
       "    </tr>\n",
       "    <tr>\n",
       "      <th>2667</th>\n",
       "      <td>67</td>\n",
       "      <td>2000</td>\n",
       "      <td>4.709530</td>\n",
       "    </tr>\n",
       "    <tr>\n",
       "      <th>47255</th>\n",
       "      <td>1201</td>\n",
       "      <td>1249</td>\n",
       "      <td>4.060443</td>\n",
       "    </tr>\n",
       "    <tr>\n",
       "      <th>2657</th>\n",
       "      <td>67</td>\n",
       "      <td>1987</td>\n",
       "      <td>5.986452</td>\n",
       "    </tr>\n",
       "    <tr>\n",
       "      <th>54836</th>\n",
       "      <td>1394</td>\n",
       "      <td>437</td>\n",
       "      <td>1.609438</td>\n",
       "    </tr>\n",
       "    <tr>\n",
       "      <th>7864</th>\n",
       "      <td>200</td>\n",
       "      <td>4272</td>\n",
       "      <td>3.806662</td>\n",
       "    </tr>\n",
       "    <tr>\n",
       "      <th>2648</th>\n",
       "      <td>67</td>\n",
       "      <td>973</td>\n",
       "      <td>4.394449</td>\n",
       "    </tr>\n",
       "  </tbody>\n",
       "</table>\n",
       "</div>"
      ],
      "text/plain": [
       "       userID  artistID    weight\n",
       "32320     824       913  6.122493\n",
       "2667       67      2000  4.709530\n",
       "47255    1201      1249  4.060443\n",
       "2657       67      1987  5.986452\n",
       "54836    1394       437  1.609438\n",
       "7864      200      4272  3.806662\n",
       "2648       67       973  4.394449"
      ]
     },
     "execution_count": 102,
     "metadata": {},
     "output_type": "execute_result"
    }
   ],
   "source": [
    "relatedTrain.sample(frac = 0.04)"
   ]
  },
  {
   "cell_type": "markdown",
   "metadata": {},
   "source": [
    "然后从中，筛选出那些和artistID = 1992这首歌具有相似性的歌曲"
   ]
  },
  {
   "cell_type": "code",
   "execution_count": 107,
   "metadata": {
    "collapsed": false
   },
   "outputs": [
    {
     "data": {
      "text/html": [
       "<div>\n",
       "<style scoped>\n",
       "    .dataframe tbody tr th:only-of-type {\n",
       "        vertical-align: middle;\n",
       "    }\n",
       "\n",
       "    .dataframe tbody tr th {\n",
       "        vertical-align: top;\n",
       "    }\n",
       "\n",
       "    .dataframe thead th {\n",
       "        text-align: right;\n",
       "    }\n",
       "</style>\n",
       "<table border=\"1\" class=\"dataframe\">\n",
       "  <thead>\n",
       "    <tr style=\"text-align: right;\">\n",
       "      <th></th>\n",
       "      <th>userID</th>\n",
       "      <th>artistID</th>\n",
       "      <th>weight</th>\n",
       "    </tr>\n",
       "  </thead>\n",
       "  <tbody>\n",
       "    <tr>\n",
       "      <th>47255</th>\n",
       "      <td>1201</td>\n",
       "      <td>1249</td>\n",
       "      <td>4.060443</td>\n",
       "    </tr>\n",
       "    <tr>\n",
       "      <th>2652</th>\n",
       "      <td>67</td>\n",
       "      <td>1244</td>\n",
       "      <td>5.613128</td>\n",
       "    </tr>\n",
       "    <tr>\n",
       "      <th>54841</th>\n",
       "      <td>1394</td>\n",
       "      <td>923</td>\n",
       "      <td>3.784190</td>\n",
       "    </tr>\n",
       "    <tr>\n",
       "      <th>47265</th>\n",
       "      <td>1201</td>\n",
       "      <td>4216</td>\n",
       "      <td>5.187386</td>\n",
       "    </tr>\n",
       "    <tr>\n",
       "      <th>54846</th>\n",
       "      <td>1394</td>\n",
       "      <td>1345</td>\n",
       "      <td>0.693147</td>\n",
       "    </tr>\n",
       "    <tr>\n",
       "      <th>47257</th>\n",
       "      <td>1201</td>\n",
       "      <td>1523</td>\n",
       "      <td>4.634729</td>\n",
       "    </tr>\n",
       "    <tr>\n",
       "      <th>32319</th>\n",
       "      <td>824</td>\n",
       "      <td>859</td>\n",
       "      <td>5.891644</td>\n",
       "    </tr>\n",
       "    <tr>\n",
       "      <th>2655</th>\n",
       "      <td>67</td>\n",
       "      <td>1985</td>\n",
       "      <td>7.068172</td>\n",
       "    </tr>\n",
       "  </tbody>\n",
       "</table>\n",
       "</div>"
      ],
      "text/plain": [
       "       userID  artistID    weight\n",
       "47255    1201      1249  4.060443\n",
       "2652       67      1244  5.613128\n",
       "54841    1394       923  3.784190\n",
       "47265    1201      4216  5.187386\n",
       "54846    1394      1345  0.693147\n",
       "47257    1201      1523  4.634729\n",
       "32319     824       859  5.891644\n",
       "2655       67      1985  7.068172"
      ]
     },
     "execution_count": 107,
     "metadata": {},
     "output_type": "execute_result"
    }
   ],
   "source": [
    "relatedTrain_relatedItem.sample(frac = 0.1)"
   ]
  },
  {
   "cell_type": "code",
   "execution_count": 95,
   "metadata": {
    "collapsed": false
   },
   "outputs": [
    {
     "data": {
      "text/plain": [
       "(80, 3)"
      ]
     },
     "execution_count": 95,
     "metadata": {},
     "output_type": "execute_result"
    }
   ],
   "source": [
    "relatedTrain_relatedItem.shape"
   ]
  },
  {
   "cell_type": "markdown",
   "metadata": {},
   "source": [
    "可以看到现在相关记录已经只有80条了"
   ]
  },
  {
   "cell_type": "markdown",
   "metadata": {},
   "source": [
    "之后，我们来看看记录中的user，artist 和 [67,1992]的关系"
   ]
  },
  {
   "cell_type": "code",
   "execution_count": 113,
   "metadata": {
    "collapsed": false
   },
   "outputs": [
    {
     "data": {
      "text/html": [
       "<div>\n",
       "<style scoped>\n",
       "    .dataframe tbody tr th:only-of-type {\n",
       "        vertical-align: middle;\n",
       "    }\n",
       "\n",
       "    .dataframe tbody tr th {\n",
       "        vertical-align: top;\n",
       "    }\n",
       "\n",
       "    .dataframe thead th {\n",
       "        text-align: right;\n",
       "    }\n",
       "</style>\n",
       "<table border=\"1\" class=\"dataframe\">\n",
       "  <thead>\n",
       "    <tr style=\"text-align: right;\">\n",
       "      <th></th>\n",
       "      <th>userID</th>\n",
       "      <th>artistID</th>\n",
       "      <th>weight</th>\n",
       "      <th>userdis</th>\n",
       "      <th>itemdis</th>\n",
       "      <th>kernel</th>\n",
       "    </tr>\n",
       "  </thead>\n",
       "  <tbody>\n",
       "    <tr>\n",
       "      <th>2659</th>\n",
       "      <td>67</td>\n",
       "      <td>1990</td>\n",
       "      <td>5.537334</td>\n",
       "      <td>0.000000</td>\n",
       "      <td>0.991404</td>\n",
       "      <td>0.703259</td>\n",
       "    </tr>\n",
       "    <tr>\n",
       "      <th>32326</th>\n",
       "      <td>824</td>\n",
       "      <td>1412</td>\n",
       "      <td>6.278521</td>\n",
       "      <td>0.656840</td>\n",
       "      <td>0.597603</td>\n",
       "      <td>0.673016</td>\n",
       "    </tr>\n",
       "    <tr>\n",
       "      <th>47262</th>\n",
       "      <td>1201</td>\n",
       "      <td>2957</td>\n",
       "      <td>4.094345</td>\n",
       "      <td>0.596838</td>\n",
       "      <td>1.005594</td>\n",
       "      <td>0.639190</td>\n",
       "    </tr>\n",
       "    <tr>\n",
       "      <th>47270</th>\n",
       "      <td>1201</td>\n",
       "      <td>6570</td>\n",
       "      <td>4.262680</td>\n",
       "      <td>0.596838</td>\n",
       "      <td>1.346074</td>\n",
       "      <td>0.610906</td>\n",
       "    </tr>\n",
       "    <tr>\n",
       "      <th>2646</th>\n",
       "      <td>67</td>\n",
       "      <td>939</td>\n",
       "      <td>5.976351</td>\n",
       "      <td>0.000000</td>\n",
       "      <td>2.067017</td>\n",
       "      <td>0.601512</td>\n",
       "    </tr>\n",
       "  </tbody>\n",
       "</table>\n",
       "</div>"
      ],
      "text/plain": [
       "       userID  artistID    weight   userdis   itemdis    kernel\n",
       "2659       67      1990  5.537334  0.000000  0.991404  0.703259\n",
       "32326     824      1412  6.278521  0.656840  0.597603  0.673016\n",
       "47262    1201      2957  4.094345  0.596838  1.005594  0.639190\n",
       "47270    1201      6570  4.262680  0.596838  1.346074  0.610906\n",
       "2646       67       939  5.976351  0.000000  2.067017  0.601512"
      ]
     },
     "execution_count": 113,
     "metadata": {},
     "output_type": "execute_result"
    }
   ],
   "source": [
    "relatedTrain_relatedItem.head()"
   ]
  },
  {
   "cell_type": "markdown",
   "metadata": {},
   "source": [
    "其中，userdis 是用户之间的距离， itemdis 是 item之间的距离，kernel是根据距离计算出来的，这条记录的重要性"
   ]
  },
  {
   "cell_type": "markdown",
   "metadata": {},
   "source": [
    "计算的公式如下：\n",
    "$  kernel = \\exp{( \\frac{||x_{user,item}-x_{67,1992}|| }{h})} $ , 可以理解为，距离越近，权重越高"
   ]
  },
  {
   "cell_type": "markdown",
   "metadata": {},
   "source": [
    "然后，按照kernel 排序，认为，在前5的评分，最能用来预测user 67 对于 1992这首歌的评价\n",
    "\n",
    "之后，应该按照归一化的kernel对于评分加权，这里简单的以平均数大致展示一下估计"
   ]
  },
  {
   "cell_type": "code",
   "execution_count": 114,
   "metadata": {
    "collapsed": false
   },
   "outputs": [
    {
     "data": {
      "text/plain": [
       "5.229846207949146"
      ]
     },
     "execution_count": 114,
     "metadata": {},
     "output_type": "execute_result"
    }
   ],
   "source": [
    "relatedTrain_relatedItem.weight[:5].mean()"
   ]
  },
  {
   "cell_type": "markdown",
   "metadata": {},
   "source": [
    "可以看出，平滑得出的用户对于商品评分已经估计得很好了\n",
    "\n",
    "但是为了保证不过拟合，同时使得能深入挖掘用户偏好，采用ALS的处理抽取用户特征"
   ]
  },
  {
   "cell_type": "markdown",
   "metadata": {},
   "source": [
    "后续内容不详细展开"
   ]
  },
  {
   "cell_type": "code",
   "execution_count": null,
   "metadata": {
    "collapsed": true
   },
   "outputs": [],
   "source": []
  }
 ],
 "metadata": {
  "anaconda-cloud": {},
  "kernelspec": {
   "display_name": "Python [conda root]",
   "language": "python",
   "name": "conda-root-py"
  },
  "language_info": {
   "codemirror_mode": {
    "name": "ipython",
    "version": 3
   },
   "file_extension": ".py",
   "mimetype": "text/x-python",
   "name": "python",
   "nbconvert_exporter": "python",
   "pygments_lexer": "ipython3",
   "version": "3.5.2"
  }
 },
 "nbformat": 4,
 "nbformat_minor": 2
}
